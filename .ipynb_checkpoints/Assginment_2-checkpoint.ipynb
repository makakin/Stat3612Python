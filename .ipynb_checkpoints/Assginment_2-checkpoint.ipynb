{
 "cells": [
  {
   "cell_type": "markdown",
   "metadata": {},
   "source": [
    "# STAT 3612 Data Mining: Assignment 2\n",
    "Credict to **Qianli Song**, **Lutao Dai**"
   ]
  },
  {
   "cell_type": "markdown",
   "metadata": {},
   "source": [
    "Consider the Times Higher Education (THE) World University Ranking dataset you have explored in Assignment 1, with response variable `total_score` and 7 predictors `citations`, `income`, `international`, `num_students`, `research`, `teaching`, `student_staff_ratio`. Select the world universities which were ranked top 200 during year 2011-2016."
   ]
  },
  {
   "cell_type": "code",
   "execution_count": 231,
   "metadata": {
    "collapsed": false
   },
   "outputs": [],
   "source": [
    "import numpy as np\n",
    "import pandas as pd\n",
    "import matplotlib.pyplot as plt\n",
    "import statsmodels.formula.api as sm\n",
    "from math import sqrt\n",
    "from sklearn.feature_selection import RFE\n",
    "from sklearn.linear_model import LinearRegression as Lin_Reg\n",
    "from scipy import stats\n",
    "from scipy.interpolate import UnivariateSpline\n",
    "%matplotlib inline"
   ]
  },
  {
   "cell_type": "markdown",
   "metadata": {},
   "source": [
    "<b>Preprocessing:</b>"
   ]
  },
  {
   "cell_type": "code",
   "execution_count": 232,
   "metadata": {
    "collapsed": false
   },
   "outputs": [],
   "source": [
    "df = pd.read_csv('./HW_datasets/timesData.csv')\n",
    "\n",
    "# Subset data with top 200 world-ranked universities\n",
    "df = df[df['world_rank'].str.len() <= 4]\n",
    "\n",
    "# Remove the punctuations and transform the data type\n",
    "df.loc[:,'world_rank'] = df.loc[:,'world_rank'].str.replace('=','').astype(int)\n",
    "df.loc[:,'num_students'] = df.loc[:,'num_students'].str.replace(',','').astype(float)\n",
    "df.loc[:,'international'] = df.loc[:,'international'].replace(\"-\", np.nan).astype(float)\n",
    "df.loc[:,'international_students'] = df.loc[:,'international_students'].str.strip(\"%\").astype(float)\n",
    "df.loc[:,'income'] = df.loc[:,'income'].replace(\"-\", np.nan).astype(float)\n",
    "df.loc[:,'total_score'] = df.loc[:,'total_score'].astype(float)"
   ]
  },
  {
   "cell_type": "markdown",
   "metadata": {
    "collapsed": true
   },
   "source": [
    "## Step 0:\n",
    "\n",
    "Use `R::na.omit()` to remove missing values, then we will have a working subdata DataX1 with the following numbers of observations over the years.\n"
   ]
  },
  {
   "cell_type": "markdown",
   "metadata": {},
   "source": [
    "<b>Solution:</b>"
   ]
  },
  {
   "cell_type": "code",
   "execution_count": 233,
   "metadata": {
    "collapsed": false
   },
   "outputs": [
    {
     "data": {
      "text/plain": [
       "2016    193\n",
       "2015    186\n",
       "2014    180\n",
       "2013    176\n",
       "2012    172\n",
       "2011    132\n",
       "Name: year, dtype: int64"
      ]
     },
     "execution_count": 233,
     "metadata": {},
     "output_type": "execute_result"
    }
   ],
   "source": [
    "target = ['teaching','international','research','citations','income','total_score','num_students', 'student_staff_ratio', 'year']\n",
    "\n",
    "# Use pandas.DataFrame.dropna as a python equivalent of R::na.omit()\n",
    "DataX1 = df[target].dropna()\n",
    "\n",
    "# Count based on years\n",
    "DataX1['year'].value_counts()"
   ]
  },
  {
   "cell_type": "markdown",
   "metadata": {},
   "source": [
    "---"
   ]
  },
  {
   "cell_type": "markdown",
   "metadata": {},
   "source": [
    "## Step 1:\n",
    "\n",
    "a) Use `DataX1` to fit a linear regression model (with intercept) for the response `total_score` with four predictors: `teaching`, `research`, `num_students`, `student_staff_ratio`. What is the goodness of fit? Output the coefficients for the significant variables."
   ]
  },
  {
   "cell_type": "markdown",
   "metadata": {},
   "source": [
    "**Solution 1:**\n",
    "\n",
    "Use pre-built model and model evaluators in `ols` from `statsmodels.formula.api`"
   ]
  },
  {
   "cell_type": "code",
   "execution_count": 234,
   "metadata": {
    "collapsed": false,
    "scrolled": false
   },
   "outputs": [
    {
     "name": "stdout",
     "output_type": "stream",
     "text": [
      "                            OLS Regression Results                            \n",
      "==============================================================================\n",
      "Dep. Variable:            total_score   R-squared:                       0.865\n",
      "Model:                            OLS   Adj. R-squared:                  0.864\n",
      "Method:                 Least Squares   F-statistic:                     1651.\n",
      "Date:                Sat, 18 Mar 2017   Prob (F-statistic):               0.00\n",
      "Time:                        00:51:53   Log-Likelihood:                -3079.4\n",
      "No. Observations:                1039   AIC:                             6169.\n",
      "Df Residuals:                    1034   BIC:                             6194.\n",
      "Df Model:                           4                                         \n",
      "Covariance Type:            nonrobust                                         \n",
      "=======================================================================================\n",
      "                          coef    std err          t      P>|t|      [95.0% Conf. Int.]\n",
      "---------------------------------------------------------------------------------------\n",
      "Intercept              28.1203      0.627     44.856      0.000        26.890    29.350\n",
      "teaching                0.3161      0.021     15.078      0.000         0.275     0.357\n",
      "research                0.3515      0.018     19.893      0.000         0.317     0.386\n",
      "num_students        -9.764e-05   1.18e-05     -8.243      0.000        -0.000 -7.44e-05\n",
      "student_staff_ratio    -0.0161      0.019     -0.840      0.401        -0.054     0.022\n",
      "==============================================================================\n",
      "Omnibus:                      151.035   Durbin-Watson:                   1.531\n",
      "Prob(Omnibus):                  0.000   Jarque-Bera (JB):              228.218\n",
      "Skew:                          -1.002   Prob(JB):                     2.77e-50\n",
      "Kurtosis:                       4.122   Cond. No.                     1.16e+05\n",
      "==============================================================================\n",
      "\n",
      "Warnings:\n",
      "[1] Standard Errors assume that the covariance matrix of the errors is correctly specified.\n",
      "[2] The condition number is large, 1.16e+05. This might indicate that there are\n",
      "strong multicollinearity or other numerical problems.\n"
     ]
    }
   ],
   "source": [
    "# Fit multiple linear regression model using ols\n",
    "md1 = sm.ols(\"total_score ~ teaching + research + num_students + student_staff_ratio\", data=DataX1).fit()\n",
    "print md1.summary()"
   ]
  },
  {
   "cell_type": "code",
   "execution_count": 235,
   "metadata": {
    "collapsed": false
   },
   "outputs": [
    {
     "name": "stdout",
     "output_type": "stream",
     "text": [
      "R^2 value of the linear regression fit is 0.86465205879\n"
     ]
    }
   ],
   "source": [
    "# Evaluate goodness of fit\n",
    "print \"R^2 value of the linear regression fit is\", md1.rsquared"
   ]
  },
  {
   "cell_type": "code",
   "execution_count": 236,
   "metadata": {
    "collapsed": false
   },
   "outputs": [
    {
     "name": "stdout",
     "output_type": "stream",
     "text": [
      "The coefficients for the significant variables are:\n",
      "Intercept 28.1202535402\n",
      "teaching 0.316103859506\n",
      "research 0.351539063324\n",
      "num_students -9.76357019871e-05\n"
     ]
    }
   ],
   "source": [
    "# Output the coefficients for the significant variables\n",
    "print \"The coefficients for the significant variables are:\"\n",
    "for index in md1.pvalues.index:\n",
    "    if md1.pvalues[index] <= .05:\n",
    "        print index, md1.params[index]"
   ]
  },
  {
   "cell_type": "markdown",
   "metadata": {},
   "source": [
    "**Solution 2:**\n",
    "\n",
    "For those of you who are interested in the inner-workings of model fitting and evaluation, you can also implement your own functions from scratch without using any pre-built models or model evaluators"
   ]
  },
  {
   "cell_type": "code",
   "execution_count": 269,
   "metadata": {
    "collapsed": false
   },
   "outputs": [],
   "source": [
    "def lin_reg_fit(x_train, y_train):\n",
    "    \n",
    "    # Append a column of one's to x\n",
    "    n = x_train.shape[0]\n",
    "    ones_col = np.ones((n, 1))\n",
    "    x_train = np.concatenate((x_train, ones_col), axis=1)\n",
    "    \n",
    "    # Compute transpose of x\n",
    "    x_transpose = np.transpose(x_train)\n",
    "    \n",
    "    # Compute coefficients: w = inv(x^T * x) x^T * y\n",
    "    xtx_inv = np.linalg.pinv(np.dot(x_transpose, x_train))\n",
    "    \n",
    "    # Compute w: inter_term * x^T * y \n",
    "    w = np.dot(np.dot(xtx_inv, x_transpose), y_train)\n",
    "    \n",
    "    # Obtain intercept: 'c' (last index)\n",
    "    c = w[-1]\n",
    "    \n",
    "    return w[:-1], c, xtx_inv\n",
    "\n",
    "def lin_reg_score(w, c, x_test, y_test):        \n",
    "    \n",
    "    y_pred = np.dot(x_test, w) + c\n",
    "    \n",
    "    # Evaluate sqaured error, against target labels\n",
    "    # sq_error = \\sum_i (y[i] - y_pred[i])^2\n",
    "    sse = np.sum(np.square(y_test - y_pred))\n",
    "    \n",
    "    # Evaluate squared error for a predicting the mean value, against target labels\n",
    "    # variance = \\sum_i (y[i] - y_mean)^2\n",
    "    y_mean = np.mean(y_test)\n",
    "    y_variance = np.sum(np.square(y_test - y_mean))\n",
    "    \n",
    "    # Evaluate R^2 score value\n",
    "    r_squared = 1 - sse / y_variance\n",
    "\n",
    "    return r_squared, y_pred, sse\n",
    "        \n",
    "\n",
    "def lin_reg_pvalues(w, xtx_inv, sse, x_train, y_train):\n",
    "    \n",
    "    # Obtain dimension of matrix\n",
    "    n, d = x_train.shape[0], x_train.shape[1]\n",
    "    \n",
    "    # Compute s\n",
    "    s = sqrt(sse / (n-2))\n",
    "    \n",
    "    # Inference about regression parameters at α=0.05\n",
    "    factor = stats.t.ppf(1-0.025, n-2)\n",
    "    for i in range(d):\n",
    "        s_e = s * sqrt(xtx_inv[i][i])\n",
    "        lower = w[i] - s_e * factor\n",
    "        upper = w[i] + s_e * factor\n",
    "        \n",
    "        if (lower > 0) | (upper < 0):\n",
    "            print columns[i], w[i][0]"
   ]
  },
  {
   "cell_type": "code",
   "execution_count": 270,
   "metadata": {
    "collapsed": false
   },
   "outputs": [
    {
     "name": "stdout",
     "output_type": "stream",
     "text": [
      "R^2 value of the linear regression fit is 0.86465205879 \n",
      "\n",
      "The coefficients for the significant variables are:\n",
      "teaching 0.316103859506\n",
      "research 0.351539063324\n",
      "num_students -9.76357019868e-05\n"
     ]
    }
   ],
   "source": [
    "# Load data into x and y\n",
    "columns = ['teaching', 'research', 'num_students', 'student_staff_ratio']\n",
    "x = pd.DataFrame.as_matrix(DataX1[columns])\n",
    "y = pd.DataFrame.as_matrix(DataX1[['total_score']])\n",
    "\n",
    "# Fit model\n",
    "w, c, inv = lin_reg_fit(x, y)\n",
    "\n",
    "# Evaluate goodness of fit\n",
    "r, _, sse = lin_reg_score(w, c, x, y)\n",
    "\n",
    "print \"R^2 value of the linear regression fit is\", r, \"\\n\"\n",
    "\n",
    "# Output coefficients for significant variables\n",
    "print \"The coefficients for the significant variables are:\"\n",
    "lin_reg_pvalues(w, inv, sse, x, y)"
   ]
  },
  {
   "cell_type": "markdown",
   "metadata": {},
   "source": [
    "b) Fit another linear model (with intercept) for the response `total_score` with all 7 predictors. What is the goodness of fit? Output the coefficients for the significant variables."
   ]
  },
  {
   "cell_type": "markdown",
   "metadata": {},
   "source": [
    "**Solution:**"
   ]
  },
  {
   "cell_type": "code",
   "execution_count": 271,
   "metadata": {
    "collapsed": false,
    "scrolled": false
   },
   "outputs": [
    {
     "name": "stdout",
     "output_type": "stream",
     "text": [
      "                            OLS Regression Results                            \n",
      "==============================================================================\n",
      "Dep. Variable:            total_score   R-squared:                       1.000\n",
      "Model:                            OLS   Adj. R-squared:                  1.000\n",
      "Method:                 Least Squares   F-statistic:                 3.590e+05\n",
      "Date:                Sat, 18 Mar 2017   Prob (F-statistic):               0.00\n",
      "Time:                        00:56:47   Log-Likelihood:                -66.713\n",
      "No. Observations:                1039   AIC:                             149.4\n",
      "Df Residuals:                    1031   BIC:                             189.0\n",
      "Df Model:                           7                                         \n",
      "Covariance Type:            nonrobust                                         \n",
      "=======================================================================================\n",
      "                          coef    std err          t      P>|t|      [95.0% Conf. Int.]\n",
      "---------------------------------------------------------------------------------------\n",
      "Intercept               0.1065      0.063      1.685      0.092        -0.018     0.231\n",
      "teaching                0.3000      0.001    255.284      0.000         0.298     0.302\n",
      "international           0.0705      0.000    170.640      0.000         0.070     0.071\n",
      "research                0.3009      0.001    298.648      0.000         0.299     0.303\n",
      "citations               0.3023      0.001    541.105      0.000         0.301     0.303\n",
      "income                  0.0248      0.000     63.078      0.000         0.024     0.026\n",
      "num_students        -1.464e-07   7.04e-07     -0.208      0.835     -1.53e-06  1.23e-06\n",
      "student_staff_ratio     0.0005      0.001      0.482      0.630        -0.002     0.003\n",
      "==============================================================================\n",
      "Omnibus:                      651.193   Durbin-Watson:                   1.455\n",
      "Prob(Omnibus):                  0.000   Jarque-Bera (JB):             8239.602\n",
      "Skew:                           2.696   Prob(JB):                         0.00\n",
      "Kurtosis:                      15.698   Cond. No.                     2.13e+05\n",
      "==============================================================================\n",
      "\n",
      "Warnings:\n",
      "[1] Standard Errors assume that the covariance matrix of the errors is correctly specified.\n",
      "[2] The condition number is large, 2.13e+05. This might indicate that there are\n",
      "strong multicollinearity or other numerical problems.\n"
     ]
    }
   ],
   "source": [
    "md2 = sm.ols(\"total_score ~ teaching + international + research + citations + income + num_students + student_staff_ratio\", data=DataX1).fit()\n",
    "print md2.summary()"
   ]
  },
  {
   "cell_type": "code",
   "execution_count": 272,
   "metadata": {
    "collapsed": false
   },
   "outputs": [
    {
     "name": "stdout",
     "output_type": "stream",
     "text": [
      "R^2 value of the linear regression fit is 0.999589914756\n"
     ]
    }
   ],
   "source": [
    "print \"R^2 value of the linear regression fit is\", md2.rsquared"
   ]
  },
  {
   "cell_type": "code",
   "execution_count": 273,
   "metadata": {
    "collapsed": false
   },
   "outputs": [
    {
     "name": "stdout",
     "output_type": "stream",
     "text": [
      "The coefficients for the significant variables are:\n",
      "teaching 0.299983928606\n",
      "international 0.0704768352727\n",
      "research 0.300893384665\n",
      "citations 0.302254264946\n",
      "income 0.0248204727306\n"
     ]
    }
   ],
   "source": [
    "print \"The coefficients for the significant variables are:\"\n",
    "for index in md2.pvalues.index:\n",
    "    if md2.pvalues[index] <= .05:\n",
    "        print index, md2.params[index]"
   ]
  },
  {
   "cell_type": "markdown",
   "metadata": {},
   "source": [
    "---"
   ]
  },
  {
   "cell_type": "markdown",
   "metadata": {},
   "source": [
    "## Step 2:\n",
    "\n",
    "a) Use `DataX1` to fit a linear regression model with the potentially significant variables as discovered in Step 1. What do you find about the goodness of fit?"
   ]
  },
  {
   "cell_type": "markdown",
   "metadata": {},
   "source": [
    "**Solution:**\n",
    "    \n",
    "Now let's try to fit linear models using the `sklearn` package."
   ]
  },
  {
   "cell_type": "code",
   "execution_count": 279,
   "metadata": {
    "collapsed": false
   },
   "outputs": [
    {
     "name": "stdout",
     "output_type": "stream",
     "text": [
      "R^2 value of linear regression fit:  0.999589821643\n"
     ]
    }
   ],
   "source": [
    "columns = ['teaching','international','research','citations','income']\n",
    "\n",
    "md3 = Lin_Reg()\n",
    "x = DataX1[columns]\n",
    "y = DataX1['total_score']\n",
    "md3.fit(x, y)\n",
    "r3 = md3.score(x, y)\n",
    "print 'R^2 value of linear regression fit: ', r3"
   ]
  },
  {
   "cell_type": "markdown",
   "metadata": {},
   "source": [
    "b) Repeat fitting the same model for each of 6 ranking years (i.e. subsetting data per year). What do you find about their goodness of fit?"
   ]
  },
  {
   "cell_type": "markdown",
   "metadata": {},
   "source": [
    "**Solution:**"
   ]
  },
  {
   "cell_type": "code",
   "execution_count": 280,
   "metadata": {
    "collapsed": false
   },
   "outputs": [
    {
     "name": "stdout",
     "output_type": "stream",
     "text": [
      "R^2 value of linear regression fit in 2011 is: 1.0\n",
      "R^2 value of linear regression fit in 2012 is: 1.0\n",
      "R^2 value of linear regression fit in 2013 is: 1.0\n",
      "R^2 value of linear regression fit in 2014 is: 1.0\n",
      "R^2 value of linear regression fit in 2015 is: 1.0\n",
      "R^2 value of linear regression fit in 2016 is: 1.0\n"
     ]
    }
   ],
   "source": [
    "# Create a dataframe storing the coefficients\n",
    "coefs = pd.DataFrame(index=range(2011,2017), columns=columns)\n",
    "\n",
    "# Loop from year 2011 to 2016\n",
    "for year in range(2011, 2017):\n",
    "    \n",
    "    # Fit model\n",
    "    md = Lin_Reg()\n",
    "    x = DataX1[DataX1['year'] == year][columns]\n",
    "    y = DataX1[DataX1['year'] == year]['total_score']\n",
    "    md.fit(x, y)\n",
    "    r = md.score(x, y)\n",
    "    \n",
    "    # Store coefficients\n",
    "    coefs.loc[year] = pd.Series(data = md.coef_, index = columns)\n",
    "    print 'R^2 value of linear regression fit in',year,'is:', round(r, 4)"
   ]
  },
  {
   "cell_type": "markdown",
   "metadata": {},
   "source": [
    "c) Compare the model coefficients of the 7 fitted models, and give a guess about THE world university ranking methodology."
   ]
  },
  {
   "cell_type": "markdown",
   "metadata": {},
   "source": [
    "**Solution:**"
   ]
  },
  {
   "cell_type": "code",
   "execution_count": 281,
   "metadata": {
    "collapsed": false
   },
   "outputs": [
    {
     "name": "stdout",
     "output_type": "stream",
     "text": [
      "      teaching international  research citations     income\n",
      "2011  0.299783     0.0499041  0.300224    0.3251  0.0249926\n",
      "2012  0.300079     0.0748506   0.29995  0.299836  0.0250541\n",
      "2013  0.300184     0.0750805  0.299932  0.299878  0.0251082\n",
      "2014  0.299617     0.0749551  0.300607  0.299846  0.0246142\n",
      "2015  0.299915     0.0748681  0.300387  0.299743  0.0250224\n",
      "2016  0.300031     0.0750897  0.299968   0.30036  0.0251875\n"
     ]
    }
   ],
   "source": [
    "print coefs"
   ]
  },
  {
   "cell_type": "markdown",
   "metadata": {},
   "source": [
    "From the coefficient table, we have the following guess about the THE world university ranking methodology:\n",
    "\n",
    "  $totalscore = 0.3\\cdot citations+0.025\\cdot income + 0.075\\cdot international + 0.3\\cdot research + 0.3\\cdot teaching$\n",
    "  \n",
    "In other words, when calculating `total_score`, `citations`, `research`, and `teaching` each accounts for 30%, `income` accounts for 2.5%, and `international` accounts for 7.5%. And universities are ranked based on the results of `total_score`."
   ]
  },
  {
   "cell_type": "markdown",
   "metadata": {},
   "source": [
    "---"
   ]
  },
  {
   "cell_type": "markdown",
   "metadata": {},
   "source": [
    "## Step 3\n",
    "\n",
    "Consider the world ranking score prediction for the year 2016. Given the knowledge of discovered important variables in Step 2, suppose you are allowed to use only $p$ variables for score prediction. For $p = 1, 2, 3$, which model do you recommend in each case?\n"
   ]
  },
  {
   "cell_type": "markdown",
   "metadata": {},
   "source": [
    "**Solution:**"
   ]
  },
  {
   "cell_type": "code",
   "execution_count": 283,
   "metadata": {
    "collapsed": false
   },
   "outputs": [
    {
     "name": "stdout",
     "output_type": "stream",
     "text": [
      "Num Variables: 1\n",
      "Variables:  research; \n",
      "---------------\n",
      "Num Variables: 2\n",
      "Variables:  research; citations; \n",
      "---------------\n",
      "Num Variables: 3\n",
      "Variables:  teaching; research; citations; \n",
      "---------------\n"
     ]
    }
   ],
   "source": [
    "md4 = Lin_Reg()\n",
    "\n",
    "# Load subsets of data into x and y\n",
    "x = DataX1[DataX1['year'] == 2016][columns]\n",
    "y = DataX1[DataX1['year'] == 2016]['total_score']\n",
    "\n",
    "# Initialize dataframes to store features\n",
    "Features_selected = pd.DataFrame(columns=x.columns)\n",
    "Features_ranking = pd.DataFrame(columns=x.columns)\n",
    "\n",
    "# Regression subset selection using exhaustive search\n",
    "for i in range(1, 4):\n",
    "    rfe = RFE(md4, i)\n",
    "    fit = rfe.fit(x, y)\n",
    "    print(\"Num Variables: %d\") % fit.n_features_\n",
    "    print 'Variables: ', np.dot(fit.support_, pd.Series(x.columns) + '; ')\n",
    "    print '---------------'"
   ]
  },
  {
   "cell_type": "markdown",
   "metadata": {},
   "source": [
    "---"
   ]
  },
  {
   "cell_type": "markdown",
   "metadata": {},
   "source": [
    "## Step 4\n",
    "\n",
    "For year 2016 data with `total_score` and `citations` plotted in the next page\n",
    "\n",
    "a) fit a nonparametric curve using smoothing spline;"
   ]
  },
  {
   "cell_type": "markdown",
   "metadata": {},
   "source": [
    "**Solution:**"
   ]
  },
  {
   "cell_type": "code",
   "execution_count": 278,
   "metadata": {
    "collapsed": false,
    "scrolled": false
   },
   "outputs": [
    {
     "data": {
      "image/png": "[encoded data removed]",
      "text/plain": [
       "<matplotlib.figure.Figure at 0x115323610>"
      ]
     },
     "metadata": {},
     "output_type": "display_data"
    }
   ],
   "source": [
    "fig, ax = plt.subplots()\n",
    "fig.set_size_inches(8, 8)\n",
    "x = np.array(DataX1[DataX1['year'] == 2016]['citations'])\n",
    "y = np.array(DataX1[DataX1['year'] == 2016]['total_score'])\n",
    "\n",
    "order = np.argsort(x)\n",
    "spline = UnivariateSpline(x[order], y[order], s = 15000, k = 4)\n",
    "y_interp = spline(x[order])\n",
    "plt.plot(x[order], y_interp)\n",
    "plt.plot(x, y, 'o')\n",
    "plt.show()"
   ]
  },
  {
   "cell_type": "markdown",
   "metadata": {},
   "source": [
    "b) there is an outlying point in the plot, would it affect the result? (Both questions can be answered by plots)."
   ]
  },
  {
   "cell_type": "markdown",
   "metadata": {},
   "source": [
    "**Solution:**"
   ]
  },
  {
   "cell_type": "code",
   "execution_count": 259,
   "metadata": {
    "collapsed": false
   },
   "outputs": [
    {
     "data": {
      "image/png": "[encoded data removed]",
      "text/plain": [
       "<matplotlib.figure.Figure at 0x1199236d0>"
      ]
     },
     "metadata": {},
     "output_type": "display_data"
    }
   ],
   "source": [
    "fig, ax = plt.subplots()\n",
    "fig.set_size_inches(8, 8)\n",
    "x = np.array(DataX1[(DataX1['year'] == 2016) & (DataX1['citations'] > 20)]['citations'])\n",
    "y = np.array(DataX1[(DataX1['year'] == 2016) & (DataX1['citations'] > 20)]['total_score'])\n",
    "\n",
    "order = np.argsort(x)\n",
    "spline = UnivariateSpline(x[order], y[order], s = 15000, k = 4)\n",
    "y_interp = spline(x[order])\n",
    "plt.plot(x[order], y_interp)\n",
    "plt.plot(x, y, 'o')\n",
    "plt.show()"
   ]
  }
 ],
 "metadata": {
  "anaconda-cloud": {},
  "kernelspec": {
   "display_name": "Python [gl-env]",
   "language": "python",
   "name": "Python [gl-env]"
  },
  "language_info": {
   "codemirror_mode": {
    "name": "ipython",
    "version": 2
   },
   "file_extension": ".py",
   "mimetype": "text/x-python",
   "name": "python",
   "nbconvert_exporter": "python",
   "pygments_lexer": "ipython2",
   "version": "2.7.11"
  }
 },
 "nbformat": 4,
 "nbformat_minor": 0
}
